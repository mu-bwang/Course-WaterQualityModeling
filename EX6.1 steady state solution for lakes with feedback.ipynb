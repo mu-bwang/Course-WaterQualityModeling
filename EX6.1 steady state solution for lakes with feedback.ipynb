{
 "cells": [
  {
   "cell_type": "markdown",
   "id": "08b89ce3",
   "metadata": {},
   "source": [
    "## Example 6.1 in Chapra book - 'Surface Water-Quality Modeling'"
   ]
  },
  {
   "cell_type": "code",
   "execution_count": 1,
   "id": "3202b77f",
   "metadata": {},
   "outputs": [],
   "source": [
    "import numpy as np\n",
    "import matplotlib.pyplot as plt"
   ]
  },
  {
   "cell_type": "code",
   "execution_count": 7,
   "id": "1d68b1a9",
   "metadata": {},
   "outputs": [],
   "source": [
    "# Parameters of lakes\n",
    "volume = np.array([2e6, 4e6, 3e6])  # m^3\n",
    "depth = np.array([3, 7, 3])  # m\n",
    "area = np.array([0.667e6, 0.571e6, 1e6]) # m^2\n",
    "loading = np.array([2000, 4000, 1000])   # kg/yr"
   ]
  },
  {
   "cell_type": "code",
   "execution_count": 3,
   "id": "ee524ba2",
   "metadata": {},
   "outputs": [],
   "source": [
    "Q = 1e6 # flow rate, m^3/yr\n",
    "alpha = 0.5 # fraction of flow that feedback from the third lake to the first lake\n",
    "v = 10 # settling rate of pollutant, m/yr"
   ]
  },
  {
   "cell_type": "markdown",
   "id": "506cd761",
   "metadata": {},
   "source": [
    "### Determine the concentration in three lakes"
   ]
  },
  {
   "cell_type": "code",
   "execution_count": 15,
   "id": "dffefd72",
   "metadata": {},
   "outputs": [
    {
     "name": "stdout",
     "output_type": "stream",
     "text": [
      "concentration in three lakes are  [0.00023466 0.0006036  0.00016569] kg/m^3\n"
     ]
    }
   ],
   "source": [
    "# set up interaction matrix, A\n",
    "\n",
    "A = np.array([[Q+alpha*Q+v*area[0],          0,               alpha*Q], \\\n",
    "             [-(Q+alpha*Q),          Q+alpha*Q+v*area[1],        0], \\\n",
    "             [    0,                   -(Q+alpha*Q),        Q+alpha*Q+v*area[2]]])\n",
    "W = loading\n",
    "\n",
    "# solve matrix C by multiplying inverse matrix of A and the loading matrix W\n",
    "c = np.dot((np.linalg.inv(A)), W)\n",
    "print('concentration in three lakes are ', c, 'kg/m^3')"
   ]
  },
  {
   "cell_type": "markdown",
   "id": "349619b7",
   "metadata": {},
   "source": [
    "### How much concentration of the third lake is due to the reactor of the second lake?"
   ]
  },
  {
   "cell_type": "code",
   "execution_count": 16,
   "id": "46b3faf1",
   "metadata": {},
   "outputs": [
    {
     "name": "stdout",
     "output_type": "stream",
     "text": [
      "[[ 1.22196087e-07 -1.10531346e-09 -5.31287334e-09]\n",
      " [ 2.54222095e-08  1.38466301e-07 -1.10531346e-09]\n",
      " [ 3.31594037e-09  1.80608219e-08  8.68123504e-08]]\n"
     ]
    }
   ],
   "source": [
    "B = np.linalg.inv(A)\n",
    "print(B)"
   ]
  },
  {
   "cell_type": "code",
   "execution_count": 18,
   "id": "e86797f2",
   "metadata": {},
   "outputs": [
    {
     "name": "stdout",
     "output_type": "stream",
     "text": [
      "c_3 due to the second lake is 7.224328744980679e-05 kg/m^3\n"
     ]
    }
   ],
   "source": [
    "print('c_3 due to the second lake is', B[2,1]*W[1],  'kg/m^3')"
   ]
  },
  {
   "cell_type": "markdown",
   "id": "400fb910",
   "metadata": {},
   "source": [
    "## The case with no feedback, $\\alpha=0$"
   ]
  },
  {
   "cell_type": "code",
   "execution_count": 21,
   "id": "8ba98240",
   "metadata": {},
   "outputs": [
    {
     "name": "stdout",
     "output_type": "stream",
     "text": [
      "[[1.30378096e-07 0.00000000e+00 0.00000000e+00]\n",
      " [1.94304168e-08 1.49031297e-07 0.00000000e+00]\n",
      " [1.76640152e-09 1.35482997e-08 9.09090909e-08]]\n"
     ]
    }
   ],
   "source": [
    "alpha = 0.\n",
    "\n",
    "# Recalculate Matrix A\n",
    "A = np.array([[Q+alpha*Q+v*area[0],          0,               alpha*Q], \\\n",
    "             [-(Q+alpha*Q),          Q+alpha*Q+v*area[1],        0], \\\n",
    "             [    0,                   -(Q+alpha*Q),        Q+alpha*Q+v*area[2]]])\n",
    "\n",
    "B = np.linalg.inv(A)\n",
    "\n",
    "# Let's examine the inverse matrix. You can see that the superdiagonal terms are zeros \n",
    "print(B)"
   ]
  },
  {
   "cell_type": "code",
   "execution_count": 22,
   "id": "b51bb134",
   "metadata": {},
   "outputs": [
    {
     "name": "stdout",
     "output_type": "stream",
     "text": [
      "concentration in three lakes are  [0.00026076 0.00063499 0.00014864] kg/m^3 without feedback\n"
     ]
    }
   ],
   "source": [
    "c = np.dot(B, W)\n",
    "print('concentration in three lakes are ', c, 'kg/m^3 without feedback')"
   ]
  },
  {
   "cell_type": "code",
   "execution_count": null,
   "id": "08d18810",
   "metadata": {},
   "outputs": [],
   "source": []
  }
 ],
 "metadata": {
  "kernelspec": {
   "display_name": "Python 3 (ipykernel)",
   "language": "python",
   "name": "python3"
  },
  "language_info": {
   "codemirror_mode": {
    "name": "ipython",
    "version": 3
   },
   "file_extension": ".py",
   "mimetype": "text/x-python",
   "name": "python",
   "nbconvert_exporter": "python",
   "pygments_lexer": "ipython3",
   "version": "3.9.12"
  }
 },
 "nbformat": 4,
 "nbformat_minor": 5
}
