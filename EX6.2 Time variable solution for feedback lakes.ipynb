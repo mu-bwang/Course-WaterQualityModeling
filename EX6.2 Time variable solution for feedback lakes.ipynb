{
 "cells": [
  {
   "cell_type": "markdown",
   "id": "67a21d92",
   "metadata": {},
   "source": [
    "## EX6.2 - Time variable solution for feedback lakes"
   ]
  },
  {
   "cell_type": "code",
   "execution_count": 1,
   "id": "3b556c51",
   "metadata": {},
   "outputs": [],
   "source": [
    "import numpy as np\n",
    "import matplotlib.pyplot as plt"
   ]
  },
  {
   "cell_type": "code",
   "execution_count": 2,
   "id": "a744f34e",
   "metadata": {},
   "outputs": [],
   "source": [
    "# parameters of two lakes\n",
    "V = np.array([0.2, 10])*1e6  # volume, m^3\n",
    "H = np.array([4, 20])  # mean depth, m\n",
    "A = np.array([0.05, 0.5])*1e6 # surface area, m^2\n",
    "W = np.array([2000, 4000]) # loading, kg/yr"
   ]
  },
  {
   "cell_type": "code",
   "execution_count": 3,
   "id": "9d20e9f4",
   "metadata": {},
   "outputs": [],
   "source": [
    "Q = 1e6 # outflow, m^3/yr\n",
    "alpha = 0.5 # fraction of feedback flow\n",
    "v = 10 # pollutant settling, m/yr"
   ]
  },
  {
   "cell_type": "markdown",
   "id": "ab607847",
   "metadata": {},
   "source": [
    "## (a) steady state solution\n",
    "\n",
    "Mass balance equation:\n",
    "\n",
    "$0 = W_1 - (Q + \\alpha Q) c_1 - v A_1 c_1 + \\alpha Q c_2$  \n",
    "\n",
    "$0 = W_2 + (Q + \\alpha Q) c_1 - (Q + \\alpha Q) c_2 - v A_2 c_2$"
   ]
  },
  {
   "cell_type": "code",
   "execution_count": 8,
   "id": "d30482cc",
   "metadata": {},
   "outputs": [],
   "source": [
    "A = np.array([[Q+alpha*Q + v*A[0], -alpha*Q], [-(Q+alpha*Q), Q + alpha*Q + v*A[1]]])"
   ]
  },
  {
   "cell_type": "code",
   "execution_count": 13,
   "id": "327ac785",
   "metadata": {},
   "outputs": [
    {
     "name": "stdout",
     "output_type": "stream",
     "text": [
      "[0.00122449 0.00089796]\n"
     ]
    }
   ],
   "source": [
    "B = np.linalg.inv(A)\n",
    "c0 = np.dot(B, W)\n",
    "print(c0)"
   ]
  },
  {
   "cell_type": "markdown",
   "id": "56b00f78",
   "metadata": {},
   "source": [
    "## (b) time variable solution\n",
    "\n",
    "When loading is terminated at $t=0$, determine concentration change from the steady state solution\n",
    "\n",
    "$dc_1/dt = -\\alpha_{11}c_1 + \\alpha_{12} c_2$\n",
    "\n",
    "$dc_2/dt = \\alpha_{21}c_1 - \\alpha_{22} c_2$\n",
    "\n",
    "where $\\alpha_{11} = Q_{12}/V_1 + k_1$, \n",
    "\n",
    "$\\alpha_{12} = Q_{21}/V_1$, \n",
    "\n",
    "$\\alpha_{21} = Q_{12}/V_2$, \n",
    "\n",
    "$\\alpha_{22} = (Q_{23}+Q_{21})/V_2 + k_2$"
   ]
  },
  {
   "cell_type": "code",
   "execution_count": 29,
   "id": "60e0a360",
   "metadata": {},
   "outputs": [],
   "source": [
    "a11 = (Q+alpha*Q)/V[0] + v/H[0]\n",
    "a12 = alpha*Q/V[0]\n",
    "a21 = (Q+alpha*Q)/V[1]\n",
    "a22 = (Q+alpha*Q)/V[1] + v/H[1]\n",
    "\n"
   ]
  },
  {
   "cell_type": "code",
   "execution_count": 30,
   "id": "35042e4d",
   "metadata": {},
   "outputs": [],
   "source": [
    "lamb_f = 0.5*((a11+a22)+np.sqrt((a11+a22)**2-4*(a11*a22-a12*a21)))\n",
    "lamb_s = 0.5*((a11+a22)-np.sqrt((a11+a22)**2-4*(a11*a22-a12*a21)))"
   ]
  },
  {
   "cell_type": "code",
   "execution_count": 31,
   "id": "40b08567",
   "metadata": {},
   "outputs": [
    {
     "name": "stdout",
     "output_type": "stream",
     "text": [
      "0.0009812415886433976 0.0002432482072749694 -1.567489197500025e-05 0.0009136340756484696\n",
      "10.039936372847464 0.6100636271525355\n"
     ]
    }
   ],
   "source": [
    "c1f = ((lamb_f-a22)*c0[0] - a12*c0[1])/(lamb_f-lamb_s)\n",
    "c1s = (a12*c0[1]-(lamb_s-a22)*c0[0])/(lamb_f-lamb_s)\n",
    "c2f = (-a21*c0[0]+(lamb_f-a11)*c0[1])/(lamb_f-lamb_s)\n",
    "c2s = (-(lamb_s-a11)*c0[1]+a21*c0[0])/(lamb_f-lamb_s)\n",
    "print(c1f,c1s,c2f,c2s)\n",
    "print(lamb_f,lamb_s)"
   ]
  },
  {
   "cell_type": "code",
   "execution_count": 42,
   "id": "816c238d",
   "metadata": {},
   "outputs": [
    {
     "data": {
      "text/plain": [
       "<matplotlib.legend.Legend at 0x7f8c795526a0>"
      ]
     },
     "execution_count": 42,
     "metadata": {},
     "output_type": "execute_result"
    },
    {
     "data": {
      "image/png": "[encoded data removed]",
      "text/plain": [
       "<Figure size 432x288 with 1 Axes>"
      ]
     },
     "metadata": {
      "needs_background": "light"
     },
     "output_type": "display_data"
    }
   ],
   "source": [
    "t = np.linspace(0,4,1000)\n",
    "c1 = c1f*np.exp(-lamb_f*t) + c1s*np.exp(-lamb_s*t)\n",
    "c2 = c2f*np.exp(-lamb_f*t) + c2s*np.exp(-lamb_s*t)\n",
    "\n",
    "import matplotlib \n",
    "matplotlib.rc('xtick', labelsize=20) \n",
    "matplotlib.rc('ytick', labelsize=20) \n",
    "matplotlib.rc('axes', labelsize=20)\n",
    "\n",
    "plt.plot(t,c1,label='$c_1$')\n",
    "plt.plot(t,c2,label='$c_2$')\n",
    "plt.ylabel('concentration')\n",
    "plt.xlabel('time')\n",
    "plt.legend()"
   ]
  },
  {
   "cell_type": "code",
   "execution_count": null,
   "id": "1fcae401",
   "metadata": {},
   "outputs": [],
   "source": []
  }
 ],
 "metadata": {
  "kernelspec": {
   "display_name": "Python 3 (ipykernel)",
   "language": "python",
   "name": "python3"
  },
  "language_info": {
   "codemirror_mode": {
    "name": "ipython",
    "version": 3
   },
   "file_extension": ".py",
   "mimetype": "text/x-python",
   "name": "python",
   "nbconvert_exporter": "python",
   "pygments_lexer": "ipython3",
   "version": "3.9.12"
  }
 },
 "nbformat": 4,
 "nbformat_minor": 5
}
